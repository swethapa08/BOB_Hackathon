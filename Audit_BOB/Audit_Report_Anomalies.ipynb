{
  "nbformat": 4,
  "nbformat_minor": 0,
  "metadata": {
    "colab": {
      "provenance": []
    },
    "kernelspec": {
      "name": "python3",
      "display_name": "Python 3"
    },
    "language_info": {
      "name": "python"
    }
  },
  "cells": [
    {
      "cell_type": "code",
      "source": [
        "from transformers import pipeline\n",
        "generator = pipeline('text-generation', model='gpt-3')\n",
        "report = generator(\"Generate an audit report for the following anomalies: \" + str(anomalies), max_length=500)\n",
        "print(report[0]['generated_text'])"
      ],
      "metadata": {
        "id": "OKIUX6vjjFuU"
      },
      "execution_count": null,
      "outputs": []
    }
  ]
}