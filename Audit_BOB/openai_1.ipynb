{
  "nbformat": 4,
  "nbformat_minor": 0,
  "metadata": {
    "colab": {
      "provenance": []
    },
    "kernelspec": {
      "name": "python3",
      "display_name": "Python 3"
    },
    "language_info": {
      "name": "python"
    }
  },
  "cells": [
    {
      "cell_type": "code",
      "execution_count": null,
      "metadata": {
        "id": "YnuLZ_Gkd3uz"
      },
      "outputs": [],
      "source": [
        "import openai\n",
        "openai.api_key = 'your-openai-api-key'\n",
        "\n",
        "def generate_audit_report(anomaly_summary, transaction_data):\n",
        "    prompt = f\"\"\"\n",
        "    Generate a comprehensive audit report based on the following data:\n",
        "    Anomaly Summary: {anomaly_summary}\n",
        "    Transaction Data: {transaction_data}\n",
        "\n",
        "    The report should include an executive summary, detailed analysis, and recommendations.\n",
        "    \"\"\"\n",
        "\n",
        "    response = openai.Completion.create(\n",
        "        engine=\"text-davinci-003\",\n",
        "        prompt=prompt,\n",
        "        max_tokens=1500\n",
        "    )\n",
        "\n",
        "    report = response.choices[0].text.strip()\n",
        "    return report\n",
        "\n",
        "anomaly_summary = \"Detected 5 suspicious transactions with irregular amounts.\"\n",
        "transaction_data = \"Transaction ID: 12345, Amount: $5000, Date: 2023-06-28...\"\n",
        "report = generate_audit_report(anomaly_summary, transaction_data)\n",
        "print(report)\n",
        "\n",
        "def update_compliance_rules(regulatory_document):\n",
        "     prompt = f\"\"\"\n",
        "    Summarize the key compliance requirements from the following regulatory document:\n",
        "    {regulatory_document}\n",
        "\n",
        "    Extract specific rules and guidelines that need to be updated in the compliance database.\n",
        "    \"\"\"\n",
        "\n",
        "    response = openai.Completion.create(\n",
        "        engine=\"text-davinci-003\",\n",
        "        prompt=prompt,\n",
        "        max_tokens=1000\n",
        "    )\n",
        "\n",
        "    compliance_summary = response.choices[0].text.strip()\n",
        "    return compliance_summary\n",
        "\n",
        "regulatory_document = \"New regulations issued on June 2023 regarding transaction reporting...\"\n",
        "compliance_summary = update_compliance_rules(regulatory_document)\n",
        "print(compliance_summary)\n"
      ]
    }
  ]
}