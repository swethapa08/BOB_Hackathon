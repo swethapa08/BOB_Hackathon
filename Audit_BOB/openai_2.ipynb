{
  "cells": [
    {
      "cell_type": "code",
      "source": [
        "import openai\n",
        "openai.api_key = 'your-openai-api-key'\n",
        "\n",
        "def chatbot_response(user_query):\n",
        "    prompt = f\"\"\"\n",
        "    User: {user_query}\n",
        "    AI: Please provide a detailed and helpful response to the user's query regarding audit results or compliance requirements.\n",
        "    \"\"\"\n",
        "\n",
        "    response = openai.Completion.create(\n",
        "        engine=\"text-davinci-003\",\n",
        "        prompt=prompt,\n",
        "        max_tokens=500\n",
        "    )\n",
        "\n",
        "    chatbot_reply = response.choices[0].text.strip()\n",
        "    return chatbot_reply\n",
        "\n",
        "user_query = \"What are the latest compliance updates for transaction reporting?\"\n",
        "reply = chatbot_response(user_query)\n",
        "print(reply)"
      ],
      "metadata": {
        "id": "k_iyCjB5pIDl"
      },
      "id": "k_iyCjB5pIDl",
      "execution_count": null,
      "outputs": []
    }
  ],
  "metadata": {
    "colab": {
      "provenance": []
    }
  },
  "nbformat": 4,
  "nbformat_minor": 5
}