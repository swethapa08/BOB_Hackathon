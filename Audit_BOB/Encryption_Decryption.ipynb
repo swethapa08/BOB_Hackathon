{
  "nbformat": 4,
  "nbformat_minor": 0,
  "metadata": {
    "colab": {
      "provenance": []
    },
    "kernelspec": {
      "name": "python3",
      "display_name": "Python 3"
    },
    "language_info": {
      "name": "python"
    }
  },
  "cells": [
    {
      "cell_type": "code",
      "execution_count": null,
      "metadata": {
        "id": "3XrClVXBqKnB"
      },
      "outputs": [],
      "source": [
        "from cryptography.fernet import Fernet\n",
        "\n",
        "key = Fernet.generate_key()\n",
        "with open('secret.key', 'wb') as key_file:\n",
        "    key_file.write(key)\n",
        "\n",
        "with open('secret.key', 'rb') as key_file:\n",
        "    key = key_file.read()\n",
        "\n",
        "cipher = Fernet(key)\n",
        "encrypted_data = cipher.encrypt(b'Sensitive financial data')\n",
        "print(encrypted_data)\n",
        "\n",
        "decrypted_data = cipher.decrypt(encrypted_data)\n",
        "print(decrypted_data)"
      ]
    }
  ]
}