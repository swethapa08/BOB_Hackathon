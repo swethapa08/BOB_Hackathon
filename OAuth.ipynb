{
  "cells": [
    {
      "cell_type": "code",
      "source": [
        "from oauthlib.oauth2 import BackendApplicationClient\n",
        "from requests_oauthlib import OAuth2Session\n",
        "import pyotp\n",
        "\n",
        "client_id = 'your-client-id'\n",
        "client_secret = 'your-client-secret'\n",
        "token_url = 'https://your-auth-server.com/token'\n",
        "\n",
        "totp = pyotp.TOTP('base32secret3232')\n",
        "print(\"Your OTP is:\", totp.now())\n",
        "\n",
        "client = BackendApplicationClient(client_id=client_id)\n",
        "oauth = OAuth2Session(client=client)\n",
        "token = oauth.fetch_token(token_url=token_url, client_id=client_id, client_secret=client_secret)\n",
        "\n",
        "response = oauth.get('https://your-api-endpoint.com/protected-resource')\n",
        "print(response.content)"
      ],
      "metadata": {
        "id": "WPU3qc4mYNS_"
      },
      "id": "WPU3qc4mYNS_",
      "execution_count": null,
      "outputs": []
    },
    {
      "cell_type": "code",
      "source": [],
      "metadata": {
        "id": "qU2yaGTEYQWT"
      },
      "id": "qU2yaGTEYQWT",
      "execution_count": null,
      "outputs": []
    }
  ],
  "metadata": {
    "colab": {
      "provenance": []
    }
  },
  "nbformat": 4,
  "nbformat_minor": 5
}